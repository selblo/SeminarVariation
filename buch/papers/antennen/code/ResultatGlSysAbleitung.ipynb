{
 "cells": [
  {
   "cell_type": "code",
   "id": "initial_id",
   "metadata": {
    "collapsed": true,
    "ExecuteTime": {
     "end_time": "2024-08-11T21:59:10.606447Z",
     "start_time": "2024-08-11T21:59:10.602608Z"
    }
   },
   "source": [
    "# ---------------------------------------------------------------\n",
    "# MathSem Variation\n",
    "# Author: Baris Catan\n",
    "# Date: 12.08.2024\n",
    "# ---------------------------------------------------------------\n",
    "from sympy import symbols, diff, pi, sqrt, lambdify, evaluate, plot\n",
    "from scipy.optimize import fsolve"
   ],
   "outputs": [],
   "execution_count": 22
  },
  {
   "cell_type": "code",
   "source": [
    "l, r = symbols(\"l, r\")\n",
    "laenge = pi"
   ],
   "metadata": {
    "collapsed": false,
    "ExecuteTime": {
     "end_time": "2024-08-11T21:59:10.668691Z",
     "start_time": "2024-08-11T21:59:10.664584Z"
    }
   },
   "id": "45cbd6d87eb85a8c",
   "outputs": [],
   "execution_count": 23
  },
  {
   "cell_type": "code",
   "source": [
    "with evaluate(True):\n",
    "    umfang = 2 * r * pi + 3 * l - 6 * sqrt ( 3) *r\n",
    "    display(umfang)"
   ],
   "metadata": {
    "collapsed": false,
    "ExecuteTime": {
     "end_time": "2024-08-11T21:59:10.705856Z",
     "start_time": "2024-08-11T21:59:10.700276Z"
    }
   },
   "id": "fa1000a725339e33",
   "outputs": [
    {
     "data": {
      "text/plain": [
       "3*l - 6*sqrt(3)*r + 2*pi*r"
      ],
      "text/latex": "$\\displaystyle 3 l - 6 \\sqrt{3} r + 2 \\pi r$"
     },
     "metadata": {},
     "output_type": "display_data"
    }
   ],
   "execution_count": 24
  },
  {
   "cell_type": "code",
   "source": [
    "with evaluate(True):\n",
    "    flaeche = r**2 * pi + 3 * r *(l-2*sqrt(3)*r) + sqrt(3)*(l-2*sqrt(3)*r)**2/4\n",
    "    #fll = flaeche.subs(l,laenge)\n",
    "    display(flaeche)"
   ],
   "metadata": {
    "collapsed": false,
    "ExecuteTime": {
     "end_time": "2024-08-11T21:59:10.721116Z",
     "start_time": "2024-08-11T21:59:10.709867Z"
    }
   },
   "id": "561e27949353fe75",
   "outputs": [
    {
     "data": {
      "text/plain": [
       "pi*r**2 + 3*r*(l - 2*sqrt(3)*r) + sqrt(3)*(l - 2*sqrt(3)*r)**2/4"
      ],
      "text/latex": "$\\displaystyle \\pi r^{2} + 3 r \\left(l - 2 \\sqrt{3} r\\right) + \\frac{\\sqrt{3} \\left(l - 2 \\sqrt{3} r\\right)^{2}}{4}$"
     },
     "metadata": {},
     "output_type": "display_data"
    }
   ],
   "execution_count": 25
  },
  {
   "cell_type": "code",
   "source": [
    "with evaluate(False):\n",
    "    f = umfang/flaeche**2\n",
    "    display(f)"
   ],
   "metadata": {
    "collapsed": false,
    "ExecuteTime": {
     "end_time": "2024-08-11T21:59:10.731811Z",
     "start_time": "2024-08-11T21:59:10.722128Z"
    }
   },
   "id": "1663cac8cf2d318c",
   "outputs": [
    {
     "data": {
      "text/plain": [
       "(3*l - 6*sqrt(3)*r + 2*pi*r)/((pi*r**2 + 3*r*(l - 2*sqrt(3)*r) + sqrt(3)*(l - 2*sqrt(3)*r)**2/4)**2)"
      ],
      "text/latex": "$\\displaystyle \\frac{3 l - 6 \\sqrt{3} r + 2 \\pi r}{\\left(\\pi r^{2} + 3 r \\left(l - 2 \\sqrt{3} r\\right) + \\frac{\\sqrt{3} \\left(l - 2 \\sqrt{3} r\\right)^{2}}{4}\\right)^{2}}$"
     },
     "metadata": {},
     "output_type": "display_data"
    }
   ],
   "execution_count": 26
  },
  {
   "cell_type": "code",
   "source": [
    "f_l = f.subs(l,laenge)\n",
    "f_l"
   ],
   "metadata": {
    "collapsed": false,
    "ExecuteTime": {
     "end_time": "2024-08-11T21:59:10.742980Z",
     "start_time": "2024-08-11T21:59:10.732821Z"
    }
   },
   "id": "9f45a1e27fbfccc3",
   "outputs": [
    {
     "data": {
      "text/plain": [
       "(-6*sqrt(3)*r + 2*pi*r + 3*pi)/(pi*r**2 + 3*r*(-2*sqrt(3)*r + pi) + sqrt(3)*(-2*sqrt(3)*r + pi)**2/4)**2"
      ],
      "text/latex": "$\\displaystyle \\frac{- 6 \\sqrt{3} r + 2 \\pi r + 3 \\pi}{\\left(\\pi r^{2} + 3 r \\left(- 2 \\sqrt{3} r + \\pi\\right) + \\frac{\\sqrt{3} \\left(- 2 \\sqrt{3} r + \\pi\\right)^{2}}{4}\\right)^{2}}$"
     },
     "execution_count": 27,
     "metadata": {},
     "output_type": "execute_result"
    }
   ],
   "execution_count": 27
  },
  {
   "cell_type": "code",
   "source": [
    "diff_fl_r = diff(f_l, r)\n",
    "\n",
    "diff_fl_r"
   ],
   "metadata": {
    "collapsed": false,
    "ExecuteTime": {
     "end_time": "2024-08-11T21:59:10.777944Z",
     "start_time": "2024-08-11T21:59:10.744488Z"
    }
   },
   "id": "ff63037f16a92121",
   "outputs": [
    {
     "data": {
      "text/plain": [
       "(-4*pi*r + 12*sqrt(3)*r)*(-6*sqrt(3)*r + 2*pi*r + 3*pi)/(pi*r**2 + 3*r*(-2*sqrt(3)*r + pi) + sqrt(3)*(-2*sqrt(3)*r + pi)**2/4)**3 + (-6*sqrt(3) + 2*pi)/(pi*r**2 + 3*r*(-2*sqrt(3)*r + pi) + sqrt(3)*(-2*sqrt(3)*r + pi)**2/4)**2"
      ],
      "text/latex": "$\\displaystyle \\frac{\\left(- 4 \\pi r + 12 \\sqrt{3} r\\right) \\left(- 6 \\sqrt{3} r + 2 \\pi r + 3 \\pi\\right)}{\\left(\\pi r^{2} + 3 r \\left(- 2 \\sqrt{3} r + \\pi\\right) + \\frac{\\sqrt{3} \\left(- 2 \\sqrt{3} r + \\pi\\right)^{2}}{4}\\right)^{3}} + \\frac{- 6 \\sqrt{3} + 2 \\pi}{\\left(\\pi r^{2} + 3 r \\left(- 2 \\sqrt{3} r + \\pi\\right) + \\frac{\\sqrt{3} \\left(- 2 \\sqrt{3} r + \\pi\\right)^{2}}{4}\\right)^{2}}$"
     },
     "execution_count": 28,
     "metadata": {},
     "output_type": "execute_result"
    }
   ],
   "execution_count": 28
  },
  {
   "cell_type": "code",
   "source": [
    "diff2_fl_r = diff(diff_fl_r, r)\n",
    "\n",
    "diff2_fl_r"
   ],
   "metadata": {
    "collapsed": false,
    "ExecuteTime": {
     "end_time": "2024-08-11T21:59:10.846444Z",
     "start_time": "2024-08-11T21:59:10.820900Z"
    }
   },
   "id": "6f63d67729667385",
   "outputs": [
    {
     "data": {
      "text/plain": [
       "(-6*pi*r + 18*sqrt(3)*r)*(-4*pi*r + 12*sqrt(3)*r)*(-6*sqrt(3)*r + 2*pi*r + 3*pi)/(pi*r**2 + 3*r*(-2*sqrt(3)*r + pi) + sqrt(3)*(-2*sqrt(3)*r + pi)**2/4)**4 + 2*(-6*sqrt(3) + 2*pi)*(-4*pi*r + 12*sqrt(3)*r)/(pi*r**2 + 3*r*(-2*sqrt(3)*r + pi) + sqrt(3)*(-2*sqrt(3)*r + pi)**2/4)**3 + (-4*pi + 12*sqrt(3))*(-6*sqrt(3)*r + 2*pi*r + 3*pi)/(pi*r**2 + 3*r*(-2*sqrt(3)*r + pi) + sqrt(3)*(-2*sqrt(3)*r + pi)**2/4)**3"
      ],
      "text/latex": "$\\displaystyle \\frac{\\left(- 6 \\pi r + 18 \\sqrt{3} r\\right) \\left(- 4 \\pi r + 12 \\sqrt{3} r\\right) \\left(- 6 \\sqrt{3} r + 2 \\pi r + 3 \\pi\\right)}{\\left(\\pi r^{2} + 3 r \\left(- 2 \\sqrt{3} r + \\pi\\right) + \\frac{\\sqrt{3} \\left(- 2 \\sqrt{3} r + \\pi\\right)^{2}}{4}\\right)^{4}} + \\frac{2 \\left(- 6 \\sqrt{3} + 2 \\pi\\right) \\left(- 4 \\pi r + 12 \\sqrt{3} r\\right)}{\\left(\\pi r^{2} + 3 r \\left(- 2 \\sqrt{3} r + \\pi\\right) + \\frac{\\sqrt{3} \\left(- 2 \\sqrt{3} r + \\pi\\right)^{2}}{4}\\right)^{3}} + \\frac{\\left(- 4 \\pi + 12 \\sqrt{3}\\right) \\left(- 6 \\sqrt{3} r + 2 \\pi r + 3 \\pi\\right)}{\\left(\\pi r^{2} + 3 r \\left(- 2 \\sqrt{3} r + \\pi\\right) + \\frac{\\sqrt{3} \\left(- 2 \\sqrt{3} r + \\pi\\right)^{2}}{4}\\right)^{3}}$"
     },
     "execution_count": 29,
     "metadata": {},
     "output_type": "execute_result"
    }
   ],
   "execution_count": 29
  },
  {
   "cell_type": "code",
   "source": [
    "plot(diff_fl_r,xlim=(0,5),ylim=(-0.01,0.01),adaptive=False,nb_of_points=1000)"
   ],
   "metadata": {
    "collapsed": false,
    "ExecuteTime": {
     "end_time": "2024-08-11T21:59:11.065251Z",
     "start_time": "2024-08-11T21:59:10.895449Z"
    }
   },
   "id": "aedcb3b6857a67b5",
   "outputs": [
    {
     "data": {
      "text/plain": [
       "<Figure size 640x480 with 1 Axes>"
      ],
      "image/png": "[encoded data removed]"
     },
     "metadata": {},
     "output_type": "display_data"
    },
    {
     "data": {
      "text/plain": [
       "<sympy.plotting.backends.matplotlibbackend.matplotlib.MatplotlibBackend at 0x1ce5b1c37a0>"
      ]
     },
     "execution_count": 30,
     "metadata": {},
     "output_type": "execute_result"
    }
   ],
   "execution_count": 30
  },
  {
   "cell_type": "code",
   "source": [
    "lam_r = lambdify(r, diff_fl_r)\n",
    "lam_rf = lambdify(r, f_l)\n",
    "\n",
    "v = fsolve(lam_r, 0.5)\n",
    "print(v[0])"
   ],
   "metadata": {
    "collapsed": false,
    "ExecuteTime": {
     "end_time": "2024-08-11T21:59:11.079455Z",
     "start_time": "2024-08-11T21:59:11.066259Z"
    }
   },
   "id": "7fef1c5f53c1927d",
   "outputs": [
    {
     "name": "stdout",
     "output_type": "stream",
     "text": [
      "0.24661179869217312\n"
     ]
    }
   ],
   "execution_count": 31
  }
 ],
 "metadata": {
  "kernelspec": {
   "display_name": "Python 3",
   "language": "python",
   "name": "python3"
  },
  "language_info": {
   "codemirror_mode": {
    "name": "ipython",
    "version": 2
   },
   "file_extension": ".py",
   "mimetype": "text/x-python",
   "name": "python",
   "nbconvert_exporter": "python",
   "pygments_lexer": "ipython2",
   "version": "2.7.6"
  }
 },
 "nbformat": 4,
 "nbformat_minor": 5
}
