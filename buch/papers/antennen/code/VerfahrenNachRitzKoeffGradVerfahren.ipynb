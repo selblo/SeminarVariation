{
 "cells": [
  {
   "cell_type": "code",
   "id": "initial_id",
   "metadata": {
    "collapsed": true,
    "ExecuteTime": {
     "end_time": "2024-08-11T22:06:19.135228Z",
     "start_time": "2024-08-11T22:06:19.126693Z"
    }
   },
   "source": [
    "# ---------------------------------------------------------------\n",
    "# MathSem Variation\n",
    "# Author: Baris Catan\n",
    "# Date: 12.08.2024\n",
    "# ---------------------------------------------------------------\n",
    "from sympy import symbols, Eq, diff, Integral, pi, sin, cos, sqrt, lambdify, nsolve, latex\n",
    "import numpy as np\n",
    "import scipy.integrate as sc\n",
    "\n",
    "x, l_m, grad = symbols(\"x lambda grad\")\n",
    "\n",
    "l = symbols(\"L\")\n",
    "\n",
    "n = 2 #anzahl koeffizienten, probiere 5, update initial_guesses = [1.8,0.3,0.1,0.05,0.01,-11]\n",
    "l = 5 #np.pi**2/2\n",
    "\n",
    "coefficients = symbols(' '.join([f'a_{i+1}' for i in range(n)]))\n",
    "\n",
    "inner = sum(coefficients[i] * sin((2*i+1) * x) for i in range(n))\n",
    "\n",
    "inner"
   ],
   "outputs": [
    {
     "data": {
      "text/plain": [
       "a_1*sin(x) + a_2*sin(3*x)"
      ],
      "text/latex": "$\\displaystyle a_{1} \\sin{\\left(x \\right)} + a_{2} \\sin{\\left(3 x \\right)}$"
     },
     "execution_count": 2,
     "metadata": {},
     "output_type": "execute_result"
    }
   ],
   "execution_count": 2
  },
  {
   "cell_type": "code",
   "source": [
    "lam_inner = lambdify((coefficients,(x)),inner,modules=[\"numpy\"])\n",
    "\n",
    "f1 = Integral(inner, (x,0,pi))**2\n",
    "\n",
    "#print(latex(f1))\n",
    "f1"
   ],
   "metadata": {
    "collapsed": false,
    "ExecuteTime": {
     "end_time": "2024-08-11T22:06:19.158641Z",
     "start_time": "2024-08-11T22:06:19.135738Z"
    }
   },
   "id": "32d333357126be3e",
   "outputs": [
    {
     "data": {
      "text/plain": [
       "Integral(a_1*sin(x) + a_2*sin(3*x), (x, 0, pi))**2"
      ],
      "text/latex": "$\\displaystyle \\left(\\int\\limits_{0}^{\\pi} \\left(a_{1} \\sin{\\left(x \\right)} + a_{2} \\sin{\\left(3 x \\right)}\\right)\\, dx\\right)^{2}$"
     },
     "execution_count": 3,
     "metadata": {},
     "output_type": "execute_result"
    }
   ],
   "execution_count": 3
  },
  {
   "cell_type": "code",
   "source": [
    "inner_nb1 = diff(inner, x)\n",
    "len_int = sqrt(1+(inner_nb1)**2)\n",
    "\n",
    "nb1_int = Integral(len_int, (x,0,pi))\n",
    "\n",
    "lam_nb1int = lambdify((coefficients,(x)), len_int, modules=[\"numpy\"])\n",
    "\n",
    "nb1 = nb1_int-l\n",
    "\n",
    "nb1"
   ],
   "metadata": {
    "collapsed": false,
    "ExecuteTime": {
     "end_time": "2024-08-11T22:06:19.175375Z",
     "start_time": "2024-08-11T22:06:19.159650Z"
    }
   },
   "id": "c0e86b22bd55e150",
   "outputs": [
    {
     "data": {
      "text/plain": [
       "Integral(sqrt((a_1*cos(x) + 3*a_2*cos(3*x))**2 + 1), (x, 0, pi)) - 5"
      ],
      "text/latex": "$\\displaystyle \\int\\limits_{0}^{\\pi} \\sqrt{\\left(a_{1} \\cos{\\left(x \\right)} + 3 a_{2} \\cos{\\left(3 x \\right)}\\right)^{2} + 1}\\, dx - 5$"
     },
     "execution_count": 4,
     "metadata": {},
     "output_type": "execute_result"
    }
   ],
   "execution_count": 4
  },
  {
   "cell_type": "code",
   "source": [
    "nbeq = Eq(0,nb1)\n",
    "nbeq"
   ],
   "metadata": {
    "collapsed": false,
    "ExecuteTime": {
     "end_time": "2024-08-11T22:06:19.187928Z",
     "start_time": "2024-08-11T22:06:19.175375Z"
    }
   },
   "id": "cbb920cbbaa953d9",
   "outputs": [
    {
     "data": {
      "text/plain": [
       "Eq(0, Integral(sqrt((a_1*cos(x) + 3*a_2*cos(3*x))**2 + 1), (x, 0, pi)) - 5)"
      ],
      "text/latex": "$\\displaystyle 0 = \\int\\limits_{0}^{\\pi} \\sqrt{\\left(a_{1} \\cos{\\left(x \\right)} + 3 a_{2} \\cos{\\left(3 x \\right)}\\right)^{2} + 1}\\, dx - 5$"
     },
     "execution_count": 5,
     "metadata": {},
     "output_type": "execute_result"
    }
   ],
   "execution_count": 5
  },
  {
   "cell_type": "code",
   "source": [
    "f1_x_derivative = diff(f1, x)\n",
    "\n",
    "f1_a_derivatives = [diff(f1, a) for a in coefficients]\n",
    "\n",
    "for der in f1_a_derivatives:\n",
    "    display(der)"
   ],
   "metadata": {
    "collapsed": false,
    "ExecuteTime": {
     "end_time": "2024-08-11T22:06:19.214735Z",
     "start_time": "2024-08-11T22:06:19.198454Z"
    }
   },
   "id": "69ec64792df92f62",
   "outputs": [
    {
     "data": {
      "text/plain": [
       "2*Integral(a_1*sin(x) + a_2*sin(3*x), (x, 0, pi))*Integral(sin(x), (x, 0, pi))"
      ],
      "text/latex": "$\\displaystyle 2 \\left(\\int\\limits_{0}^{\\pi} \\left(a_{1} \\sin{\\left(x \\right)} + a_{2} \\sin{\\left(3 x \\right)}\\right)\\, dx\\right) \\int\\limits_{0}^{\\pi} \\sin{\\left(x \\right)}\\, dx$"
     },
     "metadata": {},
     "output_type": "display_data"
    },
    {
     "data": {
      "text/plain": [
       "2*Integral(a_1*sin(x) + a_2*sin(3*x), (x, 0, pi))*Integral(sin(3*x), (x, 0, pi))"
      ],
      "text/latex": "$\\displaystyle 2 \\left(\\int\\limits_{0}^{\\pi} \\left(a_{1} \\sin{\\left(x \\right)} + a_{2} \\sin{\\left(3 x \\right)}\\right)\\, dx\\right) \\int\\limits_{0}^{\\pi} \\sin{\\left(3 x \\right)}\\, dx$"
     },
     "metadata": {},
     "output_type": "display_data"
    }
   ],
   "execution_count": 6
  },
  {
   "cell_type": "code",
   "source": [
    "f1_x_derivative"
   ],
   "metadata": {
    "collapsed": false,
    "ExecuteTime": {
     "end_time": "2024-08-11T22:06:19.226911Z",
     "start_time": "2024-08-11T22:06:19.222803Z"
    }
   },
   "id": "8c340bc17461a36c",
   "outputs": [
    {
     "data": {
      "text/plain": [
       "0"
      ],
      "text/latex": "$\\displaystyle 0$"
     },
     "execution_count": 7,
     "metadata": {},
     "output_type": "execute_result"
    }
   ],
   "execution_count": 7
  },
  {
   "cell_type": "code",
   "source": [
    "nb1_x_derivative = diff(f1, x)\n",
    "\n",
    "nb1_a_derivatives = [diff(nb1, a) for a in coefficients]\n",
    "\n",
    "for der in nb1_a_derivatives:\n",
    "    display(der)"
   ],
   "metadata": {
    "collapsed": false,
    "ExecuteTime": {
     "end_time": "2024-08-11T22:06:19.325071Z",
     "start_time": "2024-08-11T22:06:19.287938Z"
    }
   },
   "id": "68145805adcccddb",
   "outputs": [
    {
     "data": {
      "text/plain": [
       "Integral((a_1*cos(x) + 3*a_2*cos(3*x))*cos(x)/sqrt((a_1*cos(x) + 3*a_2*cos(3*x))**2 + 1), (x, 0, pi))"
      ],
      "text/latex": "$\\displaystyle \\int\\limits_{0}^{\\pi} \\frac{\\left(a_{1} \\cos{\\left(x \\right)} + 3 a_{2} \\cos{\\left(3 x \\right)}\\right) \\cos{\\left(x \\right)}}{\\sqrt{\\left(a_{1} \\cos{\\left(x \\right)} + 3 a_{2} \\cos{\\left(3 x \\right)}\\right)^{2} + 1}}\\, dx$"
     },
     "metadata": {},
     "output_type": "display_data"
    },
    {
     "data": {
      "text/plain": [
       "Integral(3*(a_1*cos(x) + 3*a_2*cos(3*x))*cos(3*x)/sqrt((a_1*cos(x) + 3*a_2*cos(3*x))**2 + 1), (x, 0, pi))"
      ],
      "text/latex": "$\\displaystyle \\int\\limits_{0}^{\\pi} \\frac{3 \\left(a_{1} \\cos{\\left(x \\right)} + 3 a_{2} \\cos{\\left(3 x \\right)}\\right) \\cos{\\left(3 x \\right)}}{\\sqrt{\\left(a_{1} \\cos{\\left(x \\right)} + 3 a_{2} \\cos{\\left(3 x \\right)}\\right)^{2} + 1}}\\, dx$"
     },
     "metadata": {},
     "output_type": "display_data"
    }
   ],
   "execution_count": 8
  },
  {
   "cell_type": "code",
   "source": [
    "nb1_x_derivative"
   ],
   "metadata": {
    "collapsed": false,
    "ExecuteTime": {
     "end_time": "2024-08-11T22:06:19.330588Z",
     "start_time": "2024-08-11T22:06:19.326079Z"
    }
   },
   "id": "6891775ad088754b",
   "outputs": [
    {
     "data": {
      "text/plain": [
       "0"
      ],
      "text/latex": "$\\displaystyle 0$"
     },
     "execution_count": 9,
     "metadata": {},
     "output_type": "execute_result"
    }
   ],
   "execution_count": 9
  },
  {
   "cell_type": "code",
   "source": [
    "equations = [Eq(f1_deriv, -l_m * nb1_deriv) for f1_deriv, nb1_deriv in zip(f1_a_derivatives, nb1_a_derivatives)]\n",
    "equations.append(nbeq)\n",
    "\n",
    "for eq in equations:\n",
    "    display(eq)"
   ],
   "metadata": {
    "collapsed": false,
    "ExecuteTime": {
     "end_time": "2024-08-11T22:06:19.356359Z",
     "start_time": "2024-08-11T22:06:19.331619Z"
    }
   },
   "id": "d4acf464745dc19a",
   "outputs": [
    {
     "data": {
      "text/plain": [
       "Eq(2*Integral(a_1*sin(x) + a_2*sin(3*x), (x, 0, pi))*Integral(sin(x), (x, 0, pi)), -lambda*Integral((a_1*cos(x) + 3*a_2*cos(3*x))*cos(x)/sqrt((a_1*cos(x) + 3*a_2*cos(3*x))**2 + 1), (x, 0, pi)))"
      ],
      "text/latex": "$\\displaystyle 2 \\left(\\int\\limits_{0}^{\\pi} \\left(a_{1} \\sin{\\left(x \\right)} + a_{2} \\sin{\\left(3 x \\right)}\\right)\\, dx\\right) \\int\\limits_{0}^{\\pi} \\sin{\\left(x \\right)}\\, dx = - \\lambda \\int\\limits_{0}^{\\pi} \\frac{\\left(a_{1} \\cos{\\left(x \\right)} + 3 a_{2} \\cos{\\left(3 x \\right)}\\right) \\cos{\\left(x \\right)}}{\\sqrt{\\left(a_{1} \\cos{\\left(x \\right)} + 3 a_{2} \\cos{\\left(3 x \\right)}\\right)^{2} + 1}}\\, dx$"
     },
     "metadata": {},
     "output_type": "display_data"
    },
    {
     "data": {
      "text/plain": [
       "Eq(2*Integral(a_1*sin(x) + a_2*sin(3*x), (x, 0, pi))*Integral(sin(3*x), (x, 0, pi)), -lambda*Integral(3*(a_1*cos(x) + 3*a_2*cos(3*x))*cos(3*x)/sqrt((a_1*cos(x) + 3*a_2*cos(3*x))**2 + 1), (x, 0, pi)))"
      ],
      "text/latex": "$\\displaystyle 2 \\left(\\int\\limits_{0}^{\\pi} \\left(a_{1} \\sin{\\left(x \\right)} + a_{2} \\sin{\\left(3 x \\right)}\\right)\\, dx\\right) \\int\\limits_{0}^{\\pi} \\sin{\\left(3 x \\right)}\\, dx = - \\lambda \\int\\limits_{0}^{\\pi} \\frac{3 \\left(a_{1} \\cos{\\left(x \\right)} + 3 a_{2} \\cos{\\left(3 x \\right)}\\right) \\cos{\\left(3 x \\right)}}{\\sqrt{\\left(a_{1} \\cos{\\left(x \\right)} + 3 a_{2} \\cos{\\left(3 x \\right)}\\right)^{2} + 1}}\\, dx$"
     },
     "metadata": {},
     "output_type": "display_data"
    },
    {
     "data": {
      "text/plain": [
       "Eq(0, Integral(sqrt((a_1*cos(x) + 3*a_2*cos(3*x))**2 + 1), (x, 0, pi)) - 5)"
      ],
      "text/latex": "$\\displaystyle 0 = \\int\\limits_{0}^{\\pi} \\sqrt{\\left(a_{1} \\cos{\\left(x \\right)} + 3 a_{2} \\cos{\\left(3 x \\right)}\\right)^{2} + 1}\\, dx - 5$"
     },
     "metadata": {},
     "output_type": "display_data"
    }
   ],
   "execution_count": 10
  },
  {
   "cell_type": "code",
   "source": [
    "initial_guesses = [1.8,0.3,-4]  # startewerte muessen in der naehe sein!\n",
    "\n",
    "solutions = nsolve(equations, coefficients + (l_m,), initial_guesses)\n",
    "\n",
    "for coeff, sol in zip(coefficients, solutions):\n",
    "    print(f'{coeff} = {sol}')\n",
    "\n",
    "print(f'lambda = {solutions[-1]}')"
   ],
   "metadata": {
    "collapsed": false,
    "ExecuteTime": {
     "end_time": "2024-08-11T22:06:22.745292Z",
     "start_time": "2024-08-11T22:06:19.357369Z"
    }
   },
   "id": "6ba293c8a40fbbf2",
   "outputs": [
    {
     "name": "stdout",
     "output_type": "stream",
     "text": [
      "a_1 = 1.85746804542343\n",
      "a_2 = 0.203223851278379\n",
      "lambda = -10.8438777363275\n"
     ]
    }
   ],
   "execution_count": 11
  },
  {
   "metadata": {
    "ExecuteTime": {
     "end_time": "2024-08-11T22:06:23.370887Z",
     "start_time": "2024-08-11T22:06:22.746798Z"
    }
   },
   "cell_type": "code",
   "source": [
    "import matplotlib.pyplot as plt\n",
    "\n",
    "x_vals = np.linspace(0, np.pi, 300)\n",
    "\n",
    "y_vals = lam_inner(solutions[:-1], x_vals)\n",
    "\n",
    "y_vals=np.array(y_vals,dtype=float)\n",
    "\n",
    "plt.plot(x_vals,y_vals)\n",
    "plt.grid()\n",
    "plt.xlim(0, np.pi)\n",
    "plt.ylim(0, np.pi)\n",
    "\n",
    "subs = dict(zip(coefficients,solutions[:-1]))\n",
    "area = round(f1.doit().evalf(subs=subs),3)\n",
    "length, err = sc.quad(lambda x: lam_nb1int(np.array(solutions[:-1],dtype=float), x), 0, np.pi)\n",
    "\n",
    "plt.fill_between(x_vals, y_vals)\n",
    "plt.text(np.pi/2, 1, f'Area: {area}', ha=\"center\", va=\"center\", fontsize = 22, style=\"oblique\")\n",
    "plt.text(np.pi/2, 1.8, f'Length: {round(length,2)}', ha=\"center\", va=\"center\", fontsize = 22, style=\"oblique\")\n",
    "\n",
    "inner"
   ],
   "id": "536710c48e7ca71e",
   "outputs": [
    {
     "data": {
      "text/plain": [
       "a_1*sin(x) + a_2*sin(3*x)"
      ],
      "text/latex": "$\\displaystyle a_{1} \\sin{\\left(x \\right)} + a_{2} \\sin{\\left(3 x \\right)}$"
     },
     "execution_count": 12,
     "metadata": {},
     "output_type": "execute_result"
    },
    {
     "data": {
      "text/plain": [
       "<Figure size 640x480 with 1 Axes>"
      ],
      "image/png": "[encoded data removed]"
     },
     "metadata": {},
     "output_type": "display_data"
    }
   ],
   "execution_count": 12
  },
  {
   "metadata": {
    "ExecuteTime": {
     "end_time": "2024-08-11T22:06:23.373368Z",
     "start_time": "2024-08-11T22:06:23.370887Z"
    }
   },
   "cell_type": "code",
   "source": [],
   "id": "64c281d93db2a92b",
   "outputs": [],
   "execution_count": 12
  }
 ],
 "metadata": {
  "kernelspec": {
   "display_name": "Python 3",
   "language": "python",
   "name": "python3"
  },
  "language_info": {
   "codemirror_mode": {
    "name": "ipython",
    "version": 2
   },
   "file_extension": ".py",
   "mimetype": "text/x-python",
   "name": "python",
   "nbconvert_exporter": "python",
   "pygments_lexer": "ipython2",
   "version": "2.7.6"
  }
 },
 "nbformat": 4,
 "nbformat_minor": 5
}
